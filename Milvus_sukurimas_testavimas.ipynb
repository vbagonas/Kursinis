{
 "cells": [
  {
   "cell_type": "code",
   "id": "initial_id",
   "metadata": {
    "collapsed": true,
    "ExecuteTime": {
     "end_time": "2025-05-25T08:04:50.956105Z",
     "start_time": "2025-05-25T08:04:31.380524Z"
    }
   },
   "source": [
    "from pymilvus import (\n",
    "    connections,\n",
    "    utility,\n",
    "    FieldSchema,\n",
    "    CollectionSchema,\n",
    "    Collection,\n",
    "    DataType\n",
    ")\n",
    "from transformers import AutoTokenizer, AutoModel\n",
    "from tqdm.auto import tqdm\n",
    "import pandas as pd\n",
    "import torch\n",
    "import glob"
   ],
   "outputs": [
    {
     "name": "stderr",
     "output_type": "stream",
     "text": [
      "C:\\Users\\bagon\\PycharmProjects\\kursiniiiss\\.venv\\Lib\\site-packages\\tqdm\\auto.py:21: TqdmWarning: IProgress not found. Please update jupyter and ipywidgets. See https://ipywidgets.readthedocs.io/en/stable/user_install.html\n",
      "  from .autonotebook import tqdm as notebook_tqdm\n"
     ]
    }
   ],
   "execution_count": 2
  },
  {
   "metadata": {
    "ExecuteTime": {
     "end_time": "2025-05-25T08:07:43.566057Z",
     "start_time": "2025-05-25T08:07:43.514733Z"
    }
   },
   "cell_type": "code",
   "source": "connections.connect(alias=\"default\", host=\"127.0.0.1\", port=\"19530\")",
   "id": "20a8667f3f1878c3",
   "outputs": [],
   "execution_count": 6
  },
  {
   "metadata": {
    "ExecuteTime": {
     "end_time": "2025-05-25T08:07:46.715286Z",
     "start_time": "2025-05-25T08:07:46.711238Z"
    }
   },
   "cell_type": "code",
   "source": "collection_name = \"kursinis2\"",
   "id": "714cb90fb1a87bd6",
   "outputs": [],
   "execution_count": 7
  },
  {
   "metadata": {
    "ExecuteTime": {
     "end_time": "2025-05-25T08:08:00.826033Z",
     "start_time": "2025-05-25T08:08:00.800706Z"
    }
   },
   "cell_type": "code",
   "source": [
    "#Jeigu norime iš naujo sukurti duomenų bazę\n",
    "if utility.has_collection(collection_name):\n",
    "    utility.drop_collection(collection_name)"
   ],
   "id": "9da976700f227873",
   "outputs": [],
   "execution_count": 9
  },
  {
   "metadata": {
    "ExecuteTime": {
     "end_time": "2025-05-25T08:08:01.775924Z",
     "start_time": "2025-05-25T08:08:01.702722Z"
    }
   },
   "cell_type": "code",
   "source": [
    "fields = [\n",
    "    FieldSchema(name=\"id\",         dtype=DataType.INT64,        is_primary=True,  auto_id=False),\n",
    "    FieldSchema(name=\"embeddings\", dtype=DataType.FLOAT_VECTOR, dim=1024,           auto_id=False),\n",
    "    FieldSchema(name=\"language\", dtype=DataType.VARCHAR, max_length=16),\n",
    "    FieldSchema(name=\"function_code\", dtype=DataType.VARCHAR, max_length=65535)\n",
    "]\n",
    "schema = CollectionSchema(fields, description=\"Kursinio embeddings\")\n",
    "\n",
    "demo_coll = Collection(name=collection_name, schema=schema)\n",
    "print(f\"Kolekcija {collection_name} sukurta su šiais laukais {[f.name for f in schema.fields]}\")"
   ],
   "id": "d6f46171ea675fd",
   "outputs": [
    {
     "name": "stdout",
     "output_type": "stream",
     "text": [
      "Kolekcija kursinis2 sukurta su šiais laukais ['id', 'embeddings', 'language', 'function_code']\n"
     ]
    }
   ],
   "execution_count": 10
  },
  {
   "metadata": {
    "ExecuteTime": {
     "end_time": "2025-05-25T08:04:55.161982Z",
     "start_time": "2025-05-25T08:04:51.009663Z"
    }
   },
   "cell_type": "code",
   "source": [
    "files = glob.glob(\"*.parquet\")\n",
    "dfs = [pd.read_parquet(f) for f in files]\n",
    "combined_df = pd.concat(dfs, ignore_index=True)\n",
    "combined_df.insert(0, 'id', combined_df.index + 1)"
   ],
   "id": "d51052cc255084ff",
   "outputs": [],
   "execution_count": 3
  },
  {
   "metadata": {
    "ExecuteTime": {
     "end_time": "2025-05-25T08:30:40.161690Z",
     "start_time": "2025-05-25T08:30:38.095455Z"
    }
   },
   "cell_type": "code",
   "source": [
    "tokenizer = AutoTokenizer.from_pretrained(\"Salesforce/SFR-Embedding-Code-400M_R\", trust_remote_code=True)\n",
    "model     = AutoModel.from_pretrained(\"Salesforce/SFR-Embedding-Code-400M_R\", trust_remote_code=True)\n",
    "\n",
    "def embed_code(code: str):\n",
    "    inputs = tokenizer(code, return_tensors=\"pt\", truncation=True, max_length=8192)\n",
    "    with torch.no_grad():\n",
    "        hidden = model(**inputs).last_hidden_state\n",
    "    return hidden[0, 0].cpu().numpy().tolist()"
   ],
   "id": "b63bf4cd334cb031",
   "outputs": [],
   "execution_count": 17
  },
  {
   "metadata": {
    "ExecuteTime": {
     "end_time": "2025-05-25T08:09:00.563016Z",
     "start_time": "2025-05-25T08:08:12.924352Z"
    }
   },
   "cell_type": "code",
   "source": [
    "batch_size = 500\n",
    "all_ids        = combined_df['id'].tolist()\n",
    "all_embeddings = combined_df['embedding'].tolist()\n",
    "all_languages  = combined_df['language'].tolist()\n",
    "all_codes      = combined_df['function_code'].tolist()\n",
    "\n",
    "for i in tqdm(range(0, len(all_ids), batch_size), desc=\"Inserting batches\"):\n",
    "    batch_ids       = all_ids[i : i + batch_size]\n",
    "    batch_embs      = all_embeddings[i : i + batch_size]\n",
    "    batch_langs     = all_languages[i : i + batch_size]\n",
    "    batch_functions = all_codes[i : i + batch_size]\n",
    "\n",
    "    demo_coll.insert([\n",
    "        batch_ids,\n",
    "        batch_embs,\n",
    "        batch_langs,\n",
    "        batch_functions\n",
    "    ])"
   ],
   "id": "8f25b9aec404e828",
   "outputs": [
    {
     "name": "stderr",
     "output_type": "stream",
     "text": [
      "Inserting batches: 100%|██████████| 200/200 [00:47<00:00,  4.20it/s]\n"
     ]
    }
   ],
   "execution_count": 12
  },
  {
   "metadata": {
    "ExecuteTime": {
     "end_time": "2025-05-25T08:09:05.192587Z",
     "start_time": "2025-05-25T08:09:04.117394Z"
    }
   },
   "cell_type": "code",
   "source": "demo_coll.flush()",
   "id": "994bf21b90a8412e",
   "outputs": [],
   "execution_count": 13
  },
  {
   "metadata": {
    "ExecuteTime": {
     "end_time": "2025-05-25T08:09:34.239425Z",
     "start_time": "2025-05-25T08:09:06.446507Z"
    }
   },
   "cell_type": "code",
   "source": [
    "#hnsw_params = {\n",
    "#     \"index_type\": \"HNSW\",\n",
    "#     \"metric_type\": \"COSINE\",\n",
    "#     \"params\": {\n",
    "#         \"M\": 16,\n",
    "#         \"efConstruction\": 200\n",
    "#     }\n",
    "# }\n",
    "\n",
    "ivf_params = {\n",
    "    \"index_type\": \"IVF_FLAT\",\n",
    "    \"metric_type\": \"L2\",\n",
    "    \"params\": {\"nlist\": 1265}\n",
    "}\n",
    "\n",
    "#demo_coll.create_index(\"embeddings\", hnsw_params)\n",
    "#demo_coll.load()\n",
    "demo_coll.create_index(\"embeddings\", ivf_params)\n",
    "demo_coll.load()"
   ],
   "id": "1df58defea24b1d3",
   "outputs": [],
   "execution_count": 14
  },
  {
   "metadata": {
    "ExecuteTime": {
     "end_time": "2025-05-25T08:10:08.058461Z",
     "start_time": "2025-05-25T08:10:08.039774Z"
    }
   },
   "cell_type": "code",
   "source": "utility.list_indexes(collection_name)",
   "id": "221b69570de38181",
   "outputs": [
    {
     "data": {
      "text/plain": [
       "['embeddings']"
      ]
     },
     "execution_count": 15,
     "metadata": {},
     "output_type": "execute_result"
    }
   ],
   "execution_count": 15
  },
  {
   "metadata": {
    "ExecuteTime": {
     "end_time": "2025-05-25T08:10:10.044276Z",
     "start_time": "2025-05-25T08:10:09.608546Z"
    }
   },
   "cell_type": "code",
   "source": [
    "#Jeigu norime pakeisti indeksą, pradžioje reikia ištrinti esamą\n",
    "demo_coll.release()\n",
    "demo_coll.drop_index()"
   ],
   "id": "6154f8002f948c58",
   "outputs": [],
   "execution_count": 16
  },
  {
   "metadata": {
    "ExecuteTime": {
     "end_time": "2025-05-24T08:33:11.497148Z",
     "start_time": "2025-05-24T08:33:10.621362Z"
    }
   },
   "cell_type": "code",
   "source": [
    "results = demo_coll.search(\n",
    "    data=[embed_code(\"\"\"def answer(a, b):\n",
    "    if a < b:\n",
    "        return 1\n",
    "    elif a > b:\n",
    "        return 2\n",
    "    else:\n",
    "        return 3\"\"\")],\n",
    "    anns_field=\"embeddings\",\n",
    "    param={\"metric_type\": \"L2\", \"params\": {\"nprobe\": 122}},\n",
    "    limit=5,\n",
    "    #expr='language == \"C\"',\n",
    "    output_fields=[\"function_code\",\"language\"]\n",
    ")\n",
    "print(results) #[0][0]['entity']['function_code']"
   ],
   "id": "10f5548acb3dccc1",
   "outputs": [
    {
     "name": "stdout",
     "output_type": "stream",
     "text": [
      "data: [[{'id': 64, 'distance': 51.35755920410156, 'entity': {'function_code': 'int answer(int a, int b){\\n\\t\\n\\tif(a<b){\\n\\treturn 1;\\n\\t}else if(a>b){\\n\\treturn 2;\\n\\t}else{\\n\\treturn 3;\\n\\t}\\n}', 'language': 'C'}}, {'id': 94896, 'distance': 157.60035705566406, 'entity': {'function_code': 'def solve(a,b):\\n    if a <= b:\\n        return(a)\\n    else:\\n        return(a-1)', 'language': 'Python'}}, {'id': 75060, 'distance': 168.23654174804688, 'entity': {'function_code': '){\\n    if(a >= b) {\\n    \\t\\tif(b >= c) {\\n    \\t\\t\\treturn b;\\n    \\t\\t}\\n    \\t\\telse if(a <= c) {\\n    \\t\\t\\treturn a;\\n    \\t\\t}\\n    \\t\\telse {\\n    \\t\\t\\treturn c;\\n    \\t\\t}\\n    \\t}\\n    \\telse if(a > c) {\\n    \\t\\treturn a;\\n    \\t}\\n    \\telse if(b > c) {\\n    \\t\\treturn c;\\n    \\t}\\n    \\telse {\\n    \\t\\treturn b;\\n    \\t}\\n  }\\n    \\n}', 'language': 'Java'}}, {'id': 87825, 'distance': 170.51821899414062, 'entity': {'function_code': 'def compare(a, b):\\n    if a < b:\\n        return \"a < b\"\\n    elif a == b:\\n        return \"a == b\"\\n    else:\\n        return \"a > b\"', 'language': 'Python'}}, {'id': 96378, 'distance': 178.315673828125, 'entity': {'function_code': \"def compare(a, b):\\n    if (a > b):\\n        return 'a > b'\\n    elif (a < b):\\n        return ('a < b')\\n    else:\\n        return ('a == b')\", 'language': 'Python'}}]]\n"
     ]
    }
   ],
   "execution_count": 43
  },
  {
   "metadata": {},
   "cell_type": "markdown",
   "source": "# TESTAVIMAS",
   "id": "c5f0cea332815455"
  },
  {
   "metadata": {
    "ExecuteTime": {
     "end_time": "2025-05-23T19:02:03.672165Z",
     "start_time": "2025-05-23T19:02:03.666080Z"
    }
   },
   "cell_type": "code",
   "source": [
    "index_configs = [\n",
    "    (\"FLAT\", {\"index_type\": \"FLAT\", \"params\": {}, \"metric_type\": \"IP\"}, {}, None),\n",
    "    (\"IVF_FLAT\", {\"index_type\": \"IVF_FLAT\", \"params\": {\"nlist\": 1265}, \"metric_type\": \"IP\"}, {\"nprobe\": 122}, None),\n",
    "    (\"IVF_SQ8\", {\"index_type\": \"IVF_SQ8\",  \"params\": {\"nlist\": 1265}, \"metric_type\": \"IP\"}, {\"nprobe\": 122}, None),\n",
    "    (\"IVF_PQ\", {\"index_type\": \"IVF_PQ\",   \"params\": {\"nlist\": 1265, \"m\": 64, \"nbits\": 8}, \"metric_type\": \"IP\"}, {\"nprobe\": 122}, None),\n",
    "    (\"HNSW\", {\"index_type\": \"HNSW\", \"params\": {\"M\": 16, \"efConstruction\": 128}, \"metric_type\": \"IP\"}, {\"ef\": 128}, None),\n",
    "]"
   ],
   "id": "c4fbc9ab02cefd6",
   "outputs": [],
   "execution_count": 167
  },
  {
   "metadata": {
    "ExecuteTime": {
     "end_time": "2025-05-23T15:04:17.080081Z",
     "start_time": "2025-05-23T15:04:17.073374Z"
    }
   },
   "cell_type": "code",
   "source": [
    "import time\n",
    "import random\n",
    "from pymilvus import MilvusException\n",
    "random.seed(42)\n",
    "Q   = 100        # užklausų skaičius testavimui\n",
    "K   = 10         # Testavimo metrikoms, K skaičius\n",
    "\n",
    "indices = random.sample(range(len(all_embeddings)), Q)\n",
    "query_embeddings = [all_embeddings[i] for i in indices]"
   ],
   "id": "fa736d2a89ecc379",
   "outputs": [],
   "execution_count": 98
  },
  {
   "metadata": {
    "ExecuteTime": {
     "end_time": "2025-05-23T18:45:52.698271Z",
     "start_time": "2025-05-23T18:45:52.690750Z"
    }
   },
   "cell_type": "code",
   "source": [
    "import math\n",
    "\n",
    "idcg = sum(1.0 / math.log2(rank + 1) for rank in range(1, K + 1))"
   ],
   "id": "5f3c782c1d5bf92e",
   "outputs": [],
   "execution_count": 149
  },
  {
   "metadata": {
    "ExecuteTime": {
     "end_time": "2025-05-23T19:02:08.057438Z",
     "start_time": "2025-05-23T19:02:08.033530Z"
    }
   },
   "cell_type": "code",
   "source": [
    "try:\n",
    "    demo_coll.release()\n",
    "    demo_coll.drop_index()\n",
    "except MilvusException as e:\n",
    "\n",
    "    print(\"no existing index to drop, skipping\")"
   ],
   "id": "60c3b337050f01ef",
   "outputs": [],
   "execution_count": 168
  },
  {
   "metadata": {
    "ExecuteTime": {
     "end_time": "2025-05-23T19:02:18.632920Z",
     "start_time": "2025-05-23T19:02:13.075154Z"
    }
   },
   "cell_type": "code",
   "source": [
    "flat_idx = {\n",
    "    \"index_type\": \"FLAT\",\n",
    "    \"metric_type\":\"IP\",\n",
    "    \"params\": {}\n",
    "}\n",
    "print(\"Building ground-truth FLAT index…\")\n",
    "t0 = time.time()\n",
    "demo_coll.create_index(\"embeddings\", flat_idx)\n",
    "build_flat = time.time() - t0\n",
    "\n",
    "demo_coll.load()\n",
    "t0 = time.time()\n",
    "flat_res = demo_coll.search(\n",
    "    data=query_embeddings,\n",
    "    anns_field=\"embeddings\",\n",
    "    param={\"metric_type\":\"IP\"},\n",
    "    limit=K\n",
    ")\n",
    "\n",
    "lat_flat = (time.time() - t0)/Q*1000\n",
    "ground_truth = [[hit.id for hit in hits] for hits in flat_res]\n",
    "print(f\"FLAT build {build_flat:.2f}s, {lat_flat:.2f}s/q\")\n",
    "\n",
    "demo_coll.release()\n",
    "demo_coll.drop_index()"
   ],
   "id": "104f59b207e0934f",
   "outputs": [
    {
     "name": "stdout",
     "output_type": "stream",
     "text": [
      "Building ground-truth FLAT index…\n",
      "FLAT build 0.52s, 17.14ms/q\n"
     ]
    }
   ],
   "execution_count": 169
  },
  {
   "metadata": {
    "ExecuteTime": {
     "end_time": "2025-05-23T19:07:21.988587Z",
     "start_time": "2025-05-23T19:03:15.303260Z"
    }
   },
   "cell_type": "code",
   "source": [
    "results = []\n",
    "for name, idx_def, search_p, device in index_configs:\n",
    "    print(f\"\\n>>> Testing {name}\")\n",
    "\n",
    "    if utility.list_indexes(collection_name, field_name=\"embeddings\"):\n",
    "        demo_coll.release()\n",
    "        demo_coll.drop_index()\n",
    "\n",
    "    t0 = time.time()\n",
    "    demo_coll.create_index(\"embeddings\", idx_def)\n",
    "    build_t = time.time() - t0\n",
    "    demo_coll.load()\n",
    "\n",
    "    t1 = time.time()\n",
    "    res = demo_coll.search(\n",
    "        data=query_embeddings,\n",
    "        anns_field=\"embeddings\",\n",
    "        param={**search_p, \"metric_type\":\"IP\"},\n",
    "        limit=K\n",
    "    )\n",
    "    lat = (time.time() - t1)/Q*1000\n",
    "\n",
    "    found = [[hit.id for hit in hits] for hits in res]\n",
    "\n",
    "    # Recall@K skaičiavimas\n",
    "    matches = sum(len(set(found[i]) & set(ground_truth[i])) for i in range(Q))\n",
    "    recall = matches / (Q * K)\n",
    "\n",
    "    # MRR@K skaičiavimas\n",
    "    reciprocal_ranks = []\n",
    "    for i in range(Q):\n",
    "        rr = 0.0\n",
    "        for rank, vid in enumerate(found[i], start=1):\n",
    "            if vid in ground_truth[i]:\n",
    "                rr = 1.0 / rank\n",
    "                break\n",
    "        reciprocal_ranks.append(rr)\n",
    "    mrr = sum(reciprocal_ranks) / Q\n",
    "\n",
    "    # NDCG@K skaičiavimas\n",
    "    cumulative_ndcg = 0.0\n",
    "    for i in range(Q):\n",
    "        dcg = 0.0\n",
    "        for rank, vid in enumerate(found[i], start=1):\n",
    "            if vid in ground_truth[i]:\n",
    "                dcg += 1.0 / math.log2(rank + 1)\n",
    "        cumulative_ndcg += (dcg / idcg)\n",
    "    ndcg = cumulative_ndcg / Q\n",
    "\n",
    "    results.append({\n",
    "        \"Index\":         name,\n",
    "        \"Build (s)\":     round(build_t, 2),\n",
    "        \"Latency (ms/q)\":round(lat, 2),\n",
    "        \"Recall@K\":      round(recall, 4),\n",
    "        \"MRR@K\":         round(mrr, 4),\n",
    "        \"NDCG@K\":        round(ndcg, 4),\n",
    "    })\n",
    "\n",
    "    demo_coll.release()\n",
    "\n",
    "df = pd.DataFrame(results).sort_values(\"Recall@K\", ascending=False)\n",
    "print(\"\\n=== Benchmark Results (IP) ===\")\n",
    "print(df)"
   ],
   "id": "8f9c37bbf64c7d04",
   "outputs": [
    {
     "name": "stdout",
     "output_type": "stream",
     "text": [
      "\n",
      ">>> Testing FLAT\n",
      "\n",
      ">>> Testing IVF_FLAT\n",
      "\n",
      ">>> Testing IVF_SQ8\n",
      "\n",
      ">>> Testing IVF_PQ\n",
      "\n",
      ">>> Testing HNSW\n",
      "\n",
      "=== Benchmark Results (IP) ===\n",
      "      Index  Build (s)  Latency (ms/q)  Recall@K   MRR@K  NDCG@K\n",
      "0      FLAT       2.08           16.22     1.000  1.0000  1.0000\n",
      "1  IVF_FLAT      46.00            2.64     0.993  1.0000  0.9955\n",
      "2   IVF_SQ8      48.55            2.95     0.979  1.0000  0.9857\n",
      "4      HNSW      57.26            2.64     0.974  0.9900  0.9786\n",
      "3    IVF_PQ      75.30            0.59     0.506  0.8983  0.5816\n"
     ]
    }
   ],
   "execution_count": 171
  },
  {
   "metadata": {},
   "cell_type": "markdown",
   "source": "# IVF_FLAT TESTAVIMAS",
   "id": "fc3221879c39417a"
  },
  {
   "metadata": {
    "ExecuteTime": {
     "end_time": "2025-05-24T08:05:06.187470Z",
     "start_time": "2025-05-24T08:05:05.682244Z"
    }
   },
   "cell_type": "code",
   "source": [
    "demo_coll.release()\n",
    "demo_coll.drop_index()"
   ],
   "id": "d414ed8aa8e22530",
   "outputs": [],
   "execution_count": 25
  },
  {
   "metadata": {
    "ExecuteTime": {
     "end_time": "2025-05-24T08:05:06.873721Z",
     "start_time": "2025-05-24T08:05:06.868101Z"
    }
   },
   "cell_type": "code",
   "source": [
    "ivf_params = {\n",
    "    \"index_type\": \"IVF_FLAT\",\n",
    "    \"metric_type\": \"L2\",\n",
    "    \"params\": {\"nlist\": 1265}\n",
    "}"
   ],
   "id": "d7817df0584535cd",
   "outputs": [],
   "execution_count": 26
  },
  {
   "metadata": {
    "ExecuteTime": {
     "end_time": "2025-05-24T08:05:54.241833Z",
     "start_time": "2025-05-24T08:05:09.618439Z"
    }
   },
   "cell_type": "code",
   "source": [
    "demo_coll.create_index(\"embeddings\", ivf_params)\n",
    "demo_coll.load()\n",
    "print(\"Indeksas sukurtas\")"
   ],
   "id": "a60dd545d25f43b7",
   "outputs": [
    {
     "name": "stdout",
     "output_type": "stream",
     "text": [
      "Indeksas sukurtas\n"
     ]
    }
   ],
   "execution_count": 27
  },
  {
   "metadata": {
    "ExecuteTime": {
     "end_time": "2025-05-24T08:08:35.174245Z",
     "start_time": "2025-05-24T08:08:35.138567Z"
    }
   },
   "cell_type": "code",
   "source": [
    "test_df = pd.read_excel(\"test_data.xlsx\")\n",
    "print(test_df.head())"
   ],
   "id": "7296a920a17cba6e",
   "outputs": [
    {
     "name": "stdout",
     "output_type": "stream",
     "text": [
      "  original_language                                      original_code  \\\n",
      "0                 C  int answer(int a, int b){\\n\\t\\n\\tif(a<b){\\n\\tr...   \n",
      "1                 C  int answer(int a, int b){\\n\\t\\n\\tif(a<b){\\n\\tr...   \n",
      "2                 C  int answer(int a, int b){\\n\\t\\n\\tif(a<b){\\n\\tr...   \n",
      "3                 C  int answer(int a, int b){\\n\\t\\n\\tif(a<b){\\n\\tr...   \n",
      "4                 C  void insertion_sort(int array[], int size) {\\n...   \n",
      "\n",
      "                                      converted_code converted_language  \n",
      "0  def answer(a, b):\\n    if a < b:\\n        retu...             Python  \n",
      "1  public static int answer(int a, int b) {\\n    ...               Java  \n",
      "2  int answer(int a, int b) {\\n    if (a < b) {\\n...                C++  \n",
      "3  public static int Answer(int a, int b) {\\n    ...                 C#  \n",
      "4  def insertion_sort(array, size):\\n    for i in...             Python  \n"
     ]
    }
   ],
   "execution_count": 29
  },
  {
   "metadata": {
    "ExecuteTime": {
     "end_time": "2025-05-24T08:08:37.986908Z",
     "start_time": "2025-05-24T08:08:37.914637Z"
    }
   },
   "cell_type": "code",
   "source": [
    "code_to_id = {\n",
    "    code: idx\n",
    "    for idx, code in zip(combined_df['id'], combined_df['function_code'])\n",
    "}"
   ],
   "id": "b1bfee7c545bab6",
   "outputs": [],
   "execution_count": 30
  },
  {
   "metadata": {
    "ExecuteTime": {
     "end_time": "2025-05-24T08:23:24.850806Z",
     "start_time": "2025-05-24T08:22:53.491623Z"
    }
   },
   "cell_type": "code",
   "source": [
    "TOP_K = 5\n",
    "search_params = {\"metric_type\": \"L2\", \"params\": {\"nprobe\": 122}}\n",
    "\n",
    "correct_top1 = 0\n",
    "Q = len(test_df)\n",
    "sum_rr = 0.0\n",
    "\n",
    "for _, row in tqdm(test_df.iterrows(), total=Q):\n",
    "\n",
    "    query_emb = embed_code(row['converted_code'])\n",
    "\n",
    "    expr = f'language == \"{row[\"original_language\"]}\"'\n",
    "    res = demo_coll.search(\n",
    "        data=[query_emb],\n",
    "        anns_field=\"embeddings\",\n",
    "        param=search_params,\n",
    "        limit=TOP_K,\n",
    "        expr=expr,\n",
    "        output_fields=[\"function_code\"]\n",
    "    )\n",
    "\n",
    "    hits = res[0]\n",
    "    top1_code = hits[0].entity['function_code']\n",
    "    print(top1_code)\n",
    "    returned_codes = [hit.entity['function_code'].strip() for hit in hits]\n",
    "\n",
    "    original = row['original_code'].strip()\n",
    "    if returned_codes and returned_codes[0] == original:\n",
    "        print(\"ATITINKA\")\n",
    "        correct_top1 += 1\n",
    "\n",
    "    rr = 0.0\n",
    "    for rank, code in enumerate(returned_codes, start=1):\n",
    "        if code == original:\n",
    "            rr = 1.0 / rank\n",
    "            break\n",
    "    sum_rr += rr\n",
    "\n",
    "top1_accuracy = correct_top1 / Q\n",
    "mrr_at_5       = sum_rr / Q\n",
    "\n",
    "print(f\"Top-1 Accuracy: {top1_accuracy:.2%}\")\n",
    "print(f\"MRR@5:         {mrr_at_5:.4f}\")"
   ],
   "id": "4dcd4421de7d79a8",
   "outputs": [
    {
     "name": "stderr",
     "output_type": "stream",
     "text": [
      "  2%|▎         | 1/40 [00:00<00:31,  1.23it/s]"
     ]
    },
    {
     "name": "stdout",
     "output_type": "stream",
     "text": [
      "int answer(int a, int b){\n",
      "\t\n",
      "\tif(a<b){\n",
      "\treturn 1;\n",
      "\t}else if(a>b){\n",
      "\treturn 2;\n",
      "\t}else{\n",
      "\treturn 3;\n",
      "\t}\n",
      "}\n",
      "ATITINKA\n"
     ]
    },
    {
     "name": "stderr",
     "output_type": "stream",
     "text": [
      "  5%|▌         | 2/40 [00:01<00:27,  1.38it/s]"
     ]
    },
    {
     "name": "stdout",
     "output_type": "stream",
     "text": [
      "int answer(int a, int b){\n",
      "\t\n",
      "\tif(a<b){\n",
      "\treturn 1;\n",
      "\t}else if(a>b){\n",
      "\treturn 2;\n",
      "\t}else{\n",
      "\treturn 3;\n",
      "\t}\n",
      "}\n",
      "ATITINKA\n"
     ]
    },
    {
     "name": "stderr",
     "output_type": "stream",
     "text": [
      "  8%|▊         | 3/40 [00:02<00:26,  1.41it/s]"
     ]
    },
    {
     "name": "stdout",
     "output_type": "stream",
     "text": [
      "int answer(int a, int b){\n",
      "\t\n",
      "\tif(a<b){\n",
      "\treturn 1;\n",
      "\t}else if(a>b){\n",
      "\treturn 2;\n",
      "\t}else{\n",
      "\treturn 3;\n",
      "\t}\n",
      "}\n",
      "ATITINKA\n"
     ]
    },
    {
     "name": "stderr",
     "output_type": "stream",
     "text": [
      " 10%|█         | 4/40 [00:02<00:26,  1.37it/s]"
     ]
    },
    {
     "name": "stdout",
     "output_type": "stream",
     "text": [
      "int answer(int a, int b){\n",
      "\t\n",
      "\tif(a<b){\n",
      "\treturn 1;\n",
      "\t}else if(a>b){\n",
      "\treturn 2;\n",
      "\t}else{\n",
      "\treturn 3;\n",
      "\t}\n",
      "}\n",
      "ATITINKA\n"
     ]
    },
    {
     "name": "stderr",
     "output_type": "stream",
     "text": [
      " 12%|█▎        | 5/40 [00:03<00:27,  1.29it/s]"
     ]
    },
    {
     "name": "stdout",
     "output_type": "stream",
     "text": [
      "void insertion_sort(int array[], int size) {\n",
      "\tfor(int i = 1; i < size; i++) {\n",
      "\t\tint tmp = array[i];\n",
      "\t\tint j = i - 1;\n",
      "\t\twhile(j >= 0 && array[j] > tmp) {\n",
      "\t\t\tarray[j+1] = array[j];\n",
      "\t\t\tj--;\n",
      "\t\t}\n",
      "\t\tarray[j+1] = tmp;\n",
      "\n",
      "\t\tprint(array, size);\n",
      "\t}\n",
      "}\n",
      "ATITINKA\n"
     ]
    },
    {
     "name": "stderr",
     "output_type": "stream",
     "text": [
      " 15%|█▌        | 6/40 [00:04<00:28,  1.18it/s]"
     ]
    },
    {
     "name": "stdout",
     "output_type": "stream",
     "text": [
      "void insertion_sort(int array[], int size) {\n",
      "\tfor(int i = 1; i < size; i++) {\n",
      "\t\tint tmp = array[i];\n",
      "\t\tint j = i - 1;\n",
      "\t\twhile(j >= 0 && array[j] > tmp) {\n",
      "\t\t\tarray[j+1] = array[j];\n",
      "\t\t\tj--;\n",
      "\t\t}\n",
      "\t\tarray[j+1] = tmp;\n",
      "\n",
      "\t\tprint(array, size);\n",
      "\t}\n",
      "}\n",
      "ATITINKA\n"
     ]
    },
    {
     "name": "stderr",
     "output_type": "stream",
     "text": [
      " 18%|█▊        | 7/40 [00:05<00:29,  1.12it/s]"
     ]
    },
    {
     "name": "stdout",
     "output_type": "stream",
     "text": [
      "void insertion_sort(int array[], int size) {\n",
      "\tfor(int i = 1; i < size; i++) {\n",
      "\t\tint tmp = array[i];\n",
      "\t\tint j = i - 1;\n",
      "\t\twhile(j >= 0 && array[j] > tmp) {\n",
      "\t\t\tarray[j+1] = array[j];\n",
      "\t\t\tj--;\n",
      "\t\t}\n",
      "\t\tarray[j+1] = tmp;\n",
      "\n",
      "\t\tprint(array, size);\n",
      "\t}\n",
      "}\n",
      "ATITINKA\n"
     ]
    },
    {
     "name": "stderr",
     "output_type": "stream",
     "text": [
      " 20%|██        | 8/40 [00:06<00:30,  1.05it/s]"
     ]
    },
    {
     "name": "stdout",
     "output_type": "stream",
     "text": [
      "void insertion_sort(int array[], int size) {\n",
      "\tfor(int i = 1; i < size; i++) {\n",
      "\t\tint tmp = array[i];\n",
      "\t\tint j = i - 1;\n",
      "\t\twhile(j >= 0 && array[j] > tmp) {\n",
      "\t\t\tarray[j+1] = array[j];\n",
      "\t\t\tj--;\n",
      "\t\t}\n",
      "\t\tarray[j+1] = tmp;\n",
      "\n",
      "\t\tprint(array, size);\n",
      "\t}\n",
      "}\n",
      "ATITINKA\n"
     ]
    },
    {
     "name": "stderr",
     "output_type": "stream",
     "text": [
      " 22%|██▎       | 9/40 [00:07<00:27,  1.12it/s]"
     ]
    },
    {
     "name": "stdout",
     "output_type": "stream",
     "text": [
      "private static object GetResult()\n",
      "        {\n",
      "            var X = ReadLong();\n",
      "\n",
      "            var year = 0L;\n",
      "            var yen = 100L;\n",
      "            while (yen < X)\n",
      "            {\n",
      "                yen = (long)Math.Floor(yen * 1.01D);\n",
      "                year++;\n",
      "            }\n",
      "\n",
      "            return year;\n",
      "        }\n",
      "ATITINKA\n"
     ]
    },
    {
     "name": "stderr",
     "output_type": "stream",
     "text": [
      " 25%|██▌       | 10/40 [00:08<00:25,  1.16it/s]"
     ]
    },
    {
     "name": "stdout",
     "output_type": "stream",
     "text": [
      "private static object GetResult()\n",
      "        {\n",
      "            var X = ReadLong();\n",
      "\n",
      "            var year = 0L;\n",
      "            var yen = 100L;\n",
      "            while (yen < X)\n",
      "            {\n",
      "                yen = (long)Math.Floor(yen * 1.01D);\n",
      "                year++;\n",
      "            }\n",
      "\n",
      "            return year;\n",
      "        }\n",
      "ATITINKA\n"
     ]
    },
    {
     "name": "stderr",
     "output_type": "stream",
     "text": [
      " 28%|██▊       | 11/40 [00:09<00:24,  1.20it/s]"
     ]
    },
    {
     "name": "stdout",
     "output_type": "stream",
     "text": [
      "private static object GetResult()\n",
      "        {\n",
      "            var X = ReadLong();\n",
      "\n",
      "            var year = 0L;\n",
      "            var yen = 100L;\n",
      "            while (yen < X)\n",
      "            {\n",
      "                yen = (long)Math.Floor(yen * 1.01D);\n",
      "                year++;\n",
      "            }\n",
      "\n",
      "            return year;\n",
      "        }\n",
      "ATITINKA\n"
     ]
    },
    {
     "name": "stderr",
     "output_type": "stream",
     "text": [
      " 30%|███       | 12/40 [00:09<00:23,  1.21it/s]"
     ]
    },
    {
     "name": "stdout",
     "output_type": "stream",
     "text": [
      "private static object GetResult()\n",
      "        {\n",
      "            var X = ReadLong();\n",
      "\n",
      "            var year = 0L;\n",
      "            var yen = 100L;\n",
      "            while (yen < X)\n",
      "            {\n",
      "                yen = (long)Math.Floor(yen * 1.01D);\n",
      "                year++;\n",
      "            }\n",
      "\n",
      "            return year;\n",
      "        }\n",
      "ATITINKA\n"
     ]
    },
    {
     "name": "stderr",
     "output_type": "stream",
     "text": [
      " 32%|███▎      | 13/40 [00:10<00:21,  1.25it/s]"
     ]
    },
    {
     "name": "stdout",
     "output_type": "stream",
     "text": [
      "public static bool Palindrome(string s, int n)\n",
      "        {\n",
      "            int mid = (n + 1) / 2;\n",
      "            for(int i=0; i<mid; i++)\n",
      "            {\n",
      "                if (s[i] != s[n - i - 1]) return false;\n",
      "            }\n",
      "            return true;\n",
      "\n",
      "        }\n",
      "ATITINKA\n"
     ]
    },
    {
     "name": "stderr",
     "output_type": "stream",
     "text": [
      " 35%|███▌      | 14/40 [00:11<00:21,  1.23it/s]"
     ]
    },
    {
     "name": "stdout",
     "output_type": "stream",
     "text": [
      "public static bool Palindrome(string s, int n)\n",
      "        {\n",
      "            int mid = (n + 1) / 2;\n",
      "            for(int i=0; i<mid; i++)\n",
      "            {\n",
      "                if (s[i] != s[n - i - 1]) return false;\n",
      "            }\n",
      "            return true;\n",
      "\n",
      "        }\n",
      "ATITINKA\n"
     ]
    },
    {
     "name": "stderr",
     "output_type": "stream",
     "text": [
      " 38%|███▊      | 15/40 [00:12<00:20,  1.23it/s]"
     ]
    },
    {
     "name": "stdout",
     "output_type": "stream",
     "text": [
      "public static bool Palindrome(string s, int n)\n",
      "        {\n",
      "            int mid = (n + 1) / 2;\n",
      "            for(int i=0; i<mid; i++)\n",
      "            {\n",
      "                if (s[i] != s[n - i - 1]) return false;\n",
      "            }\n",
      "            return true;\n",
      "\n",
      "        }\n",
      "ATITINKA\n"
     ]
    },
    {
     "name": "stderr",
     "output_type": "stream",
     "text": [
      " 40%|████      | 16/40 [00:13<00:19,  1.22it/s]"
     ]
    },
    {
     "name": "stdout",
     "output_type": "stream",
     "text": [
      "public static bool Palindrome(string s, int n)\n",
      "        {\n",
      "            int mid = (n + 1) / 2;\n",
      "            for(int i=0; i<mid; i++)\n",
      "            {\n",
      "                if (s[i] != s[n - i - 1]) return false;\n",
      "            }\n",
      "            return true;\n",
      "\n",
      "        }\n",
      "ATITINKA\n"
     ]
    },
    {
     "name": "stderr",
     "output_type": "stream",
     "text": [
      " 42%|████▎     | 17/40 [00:13<00:17,  1.28it/s]"
     ]
    },
    {
     "name": "stdout",
     "output_type": "stream",
     "text": [
      "bool isPrime(int x)\n",
      "{\n",
      "  for (int i = 2; i*i <= x; ++i)\n",
      "  {\n",
      "    if(x%i==0) return false;\n",
      "  }\n",
      "  return true;\n",
      "}\n"
     ]
    },
    {
     "name": "stderr",
     "output_type": "stream",
     "text": [
      " 45%|████▌     | 18/40 [00:14<00:16,  1.30it/s]"
     ]
    },
    {
     "name": "stdout",
     "output_type": "stream",
     "text": [
      "bool isprime(int x){\n",
      "\tfor(int i = 2; i*i <= x; i++){\n",
      "\t\tif(x% i == 0){\n",
      "\t\t\treturn false;\n",
      "\t\t}\n",
      "\t}\n",
      "\treturn true;\n",
      "}\n"
     ]
    },
    {
     "name": "stderr",
     "output_type": "stream",
     "text": [
      " 48%|████▊     | 19/40 [00:15<00:15,  1.35it/s]"
     ]
    },
    {
     "name": "stdout",
     "output_type": "stream",
     "text": [
      "bool isprime(int x){\n",
      "\tfor(int i = 2; i*i <= x; i++){\n",
      "\t\tif(x% i == 0){\n",
      "\t\t\treturn false;\n",
      "\t\t}\n",
      "\t}\n",
      "\treturn true;\n",
      "}\n"
     ]
    },
    {
     "name": "stderr",
     "output_type": "stream",
     "text": [
      " 50%|█████     | 20/40 [00:16<00:14,  1.37it/s]"
     ]
    },
    {
     "name": "stdout",
     "output_type": "stream",
     "text": [
      "bool isprime(int x){\n",
      "    for (int i = 2; i*i <= x; i++){\n",
      "        if (x%i == 0) return false;\n",
      "    }\n",
      "    return true;\n",
      "}\n",
      "ATITINKA\n"
     ]
    },
    {
     "name": "stderr",
     "output_type": "stream",
     "text": [
      " 52%|█████▎    | 21/40 [00:16<00:14,  1.33it/s]"
     ]
    },
    {
     "name": "stdout",
     "output_type": "stream",
     "text": [
      "int choco(int day, int n){\n",
      "    int res = 1;\n",
      "    int cnt = 1;\n",
      "    while(day + res<= n){\n",
      "        res += day;\n",
      "        cnt++;\n",
      "    }\n",
      "    return cnt;\n",
      "}\n",
      "ATITINKA\n"
     ]
    },
    {
     "name": "stderr",
     "output_type": "stream",
     "text": [
      " 55%|█████▌    | 22/40 [00:17<00:13,  1.34it/s]"
     ]
    },
    {
     "name": "stdout",
     "output_type": "stream",
     "text": [
      "int choco(int day, int n){\n",
      "    int res = 1;\n",
      "    int cnt = 1;\n",
      "    while(day + res<= n){\n",
      "        res += day;\n",
      "        cnt++;\n",
      "    }\n",
      "    return cnt;\n",
      "}\n",
      "ATITINKA\n"
     ]
    },
    {
     "name": "stderr",
     "output_type": "stream",
     "text": [
      " 57%|█████▊    | 23/40 [00:18<00:12,  1.35it/s]"
     ]
    },
    {
     "name": "stdout",
     "output_type": "stream",
     "text": [
      "int choco(int day, int n){\n",
      "    int res = 1;\n",
      "    int cnt = 1;\n",
      "    while(day + res<= n){\n",
      "        res += day;\n",
      "        cnt++;\n",
      "    }\n",
      "    return cnt;\n",
      "}\n",
      "ATITINKA\n"
     ]
    },
    {
     "name": "stderr",
     "output_type": "stream",
     "text": [
      " 60%|██████    | 24/40 [00:19<00:11,  1.35it/s]"
     ]
    },
    {
     "name": "stdout",
     "output_type": "stream",
     "text": [
      "int choco(int day, int n){\n",
      "    int res = 1;\n",
      "    int cnt = 1;\n",
      "    while(day + res<= n){\n",
      "        res += day;\n",
      "        cnt++;\n",
      "    }\n",
      "    return cnt;\n",
      "}\n",
      "ATITINKA\n"
     ]
    },
    {
     "name": "stderr",
     "output_type": "stream",
     "text": [
      " 62%|██████▎   | 25/40 [00:19<00:11,  1.27it/s]"
     ]
    },
    {
     "name": "stdout",
     "output_type": "stream",
     "text": [
      "def solve(N: int, R: int):\n",
      "    if N >= 10:\n",
      "        print(R)\n",
      "    else:\n",
      "        print(R+100*(10-N))\n",
      "    return\n"
     ]
    },
    {
     "name": "stderr",
     "output_type": "stream",
     "text": [
      " 65%|██████▌   | 26/40 [00:20<00:11,  1.27it/s]"
     ]
    },
    {
     "name": "stdout",
     "output_type": "stream",
     "text": [
      "def solve(N: int, R: int):\n",
      "    if N >= 10:\n",
      "        print(R)\n",
      "    else:\n",
      "        print(R+100*(10-N))\n",
      "    return\n"
     ]
    },
    {
     "name": "stderr",
     "output_type": "stream",
     "text": [
      " 68%|██████▊   | 27/40 [00:21<00:10,  1.29it/s]"
     ]
    },
    {
     "name": "stdout",
     "output_type": "stream",
     "text": [
      "def solve(N: int, R: int):\n",
      "    if N >= 10:\n",
      "        print(R)\n",
      "    else:\n",
      "        print(R+100*(10-N))\n",
      "    return\n"
     ]
    },
    {
     "name": "stderr",
     "output_type": "stream",
     "text": [
      " 70%|███████   | 28/40 [00:22<00:09,  1.33it/s]"
     ]
    },
    {
     "name": "stdout",
     "output_type": "stream",
     "text": [
      "def solve(N: int, R: int):\n",
      "    if N >= 10:\n",
      "        print(R)\n",
      "    else:\n",
      "        print(R + 100 * (10 - N))\n",
      "ATITINKA\n"
     ]
    },
    {
     "name": "stderr",
     "output_type": "stream",
     "text": [
      " 72%|███████▎  | 29/40 [00:22<00:07,  1.39it/s]"
     ]
    },
    {
     "name": "stdout",
     "output_type": "stream",
     "text": [
      "def move(q, up, down):\n",
      "    if q > 0:\n",
      "        return up * q\n",
      "    else:\n",
      "        return down * (-q)\n",
      "ATITINKA\n"
     ]
    },
    {
     "name": "stderr",
     "output_type": "stream",
     "text": [
      " 75%|███████▌  | 30/40 [00:23<00:07,  1.41it/s]"
     ]
    },
    {
     "name": "stdout",
     "output_type": "stream",
     "text": [
      "def move(q, up, down):\n",
      "    if q > 0:\n",
      "        return up * q\n",
      "    else:\n",
      "        return down * (-q)\n",
      "ATITINKA\n"
     ]
    },
    {
     "name": "stderr",
     "output_type": "stream",
     "text": [
      " 78%|███████▊  | 31/40 [00:24<00:06,  1.41it/s]"
     ]
    },
    {
     "name": "stdout",
     "output_type": "stream",
     "text": [
      "def move(q, up, down):\n",
      "    if q > 0:\n",
      "        return up * q\n",
      "    else:\n",
      "        return down * (-q)\n",
      "ATITINKA\n"
     ]
    },
    {
     "name": "stderr",
     "output_type": "stream",
     "text": [
      " 80%|████████  | 32/40 [00:24<00:05,  1.44it/s]"
     ]
    },
    {
     "name": "stdout",
     "output_type": "stream",
     "text": [
      "def move(q, up, down):\n",
      "    if q > 0:\n",
      "        return up * q\n",
      "    else:\n",
      "        return down * (-q)\n",
      "ATITINKA\n"
     ]
    },
    {
     "name": "stderr",
     "output_type": "stream",
     "text": [
      " 82%|████████▎ | 33/40 [00:25<00:05,  1.39it/s]"
     ]
    },
    {
     "name": "stdout",
     "output_type": "stream",
     "text": [
      "static long max(long[] ll){\n",
      "        long max = ll[0];\n",
      "        for(long l : ll){\n",
      "            if(max < l){\n",
      "                max = l;\n",
      "            }\n",
      "        }\n",
      "        return max;\n",
      "    }\n",
      "ATITINKA\n"
     ]
    },
    {
     "name": "stderr",
     "output_type": "stream",
     "text": [
      " 85%|████████▌ | 34/40 [00:26<00:04,  1.40it/s]"
     ]
    },
    {
     "name": "stdout",
     "output_type": "stream",
     "text": [
      "static long max(long[] ll){\n",
      "        long max = ll[0];\n",
      "        for(long l : ll){\n",
      "            if(max < l){\n",
      "                max = l;\n",
      "            }\n",
      "        }\n",
      "        return max;\n",
      "    }\n",
      "ATITINKA\n"
     ]
    },
    {
     "name": "stderr",
     "output_type": "stream",
     "text": [
      " 88%|████████▊ | 35/40 [00:27<00:03,  1.30it/s]"
     ]
    },
    {
     "name": "stdout",
     "output_type": "stream",
     "text": [
      "static long max(long[] ll){\n",
      "        long max = ll[0];\n",
      "        for(long l : ll){\n",
      "            if(max < l){\n",
      "                max = l;\n",
      "            }\n",
      "        }\n",
      "        return max;\n",
      "    }\n",
      "ATITINKA\n"
     ]
    },
    {
     "name": "stderr",
     "output_type": "stream",
     "text": [
      " 90%|█████████ | 36/40 [00:28<00:03,  1.28it/s]"
     ]
    },
    {
     "name": "stdout",
     "output_type": "stream",
     "text": [
      "static long max(long[] ll){\n",
      "        long max = ll[0];\n",
      "        for(long l : ll){\n",
      "            if(max < l){\n",
      "                max = l;\n",
      "            }\n",
      "        }\n",
      "        return max;\n",
      "    }\n",
      "ATITINKA\n"
     ]
    },
    {
     "name": "stderr",
     "output_type": "stream",
     "text": [
      " 92%|█████████▎| 37/40 [00:28<00:02,  1.24it/s]"
     ]
    },
    {
     "name": "stdout",
     "output_type": "stream",
     "text": [
      "public void print() {\n",
      "        for (int i = 0; i < this.size; i++) {\n",
      "            System.out.print(this.mx[i]);\n",
      "            if (i == this.size - 1) {\n",
      "                System.out.println();\n",
      "            } else {\n",
      "                System.out.print(\" \");\n",
      "            }\n",
      "        }\n",
      "    }\n",
      "ATITINKA\n"
     ]
    },
    {
     "name": "stderr",
     "output_type": "stream",
     "text": [
      " 95%|█████████▌| 38/40 [00:29<00:01,  1.26it/s]"
     ]
    },
    {
     "name": "stdout",
     "output_type": "stream",
     "text": [
      "public void print() {\n",
      "        for (int i = 0; i < this.size; i++) {\n",
      "            System.out.print(this.mx[i]);\n",
      "            if (i == this.size - 1) {\n",
      "                System.out.println();\n",
      "            } else {\n",
      "                System.out.print(\" \");\n",
      "            }\n",
      "        }\n",
      "    }\n",
      "ATITINKA\n"
     ]
    },
    {
     "name": "stderr",
     "output_type": "stream",
     "text": [
      " 98%|█████████▊| 39/40 [00:30<00:00,  1.25it/s]"
     ]
    },
    {
     "name": "stdout",
     "output_type": "stream",
     "text": [
      "public void print() {\n",
      "        for (int i = 0; i < this.size; i++) {\n",
      "            System.out.print(this.mx[i]);\n",
      "            if (i == this.size - 1) {\n",
      "                System.out.println();\n",
      "            } else {\n",
      "                System.out.print(\" \");\n",
      "            }\n",
      "        }\n",
      "    }\n",
      "ATITINKA\n"
     ]
    },
    {
     "name": "stderr",
     "output_type": "stream",
     "text": [
      "100%|██████████| 40/40 [00:31<00:00,  1.28it/s]"
     ]
    },
    {
     "name": "stdout",
     "output_type": "stream",
     "text": [
      "public void print() {\n",
      "        for (int i = 0; i < this.size; i++) {\n",
      "            System.out.print(this.mx[i]);\n",
      "            if (i == this.size - 1) {\n",
      "                System.out.println();\n",
      "            } else {\n",
      "                System.out.print(\" \");\n",
      "            }\n",
      "        }\n",
      "    }\n",
      "ATITINKA\n",
      "Top-1 Accuracy: 85.00%\n",
      "MRR@5:         0.9250\n"
     ]
    },
    {
     "name": "stderr",
     "output_type": "stream",
     "text": [
      "\n"
     ]
    }
   ],
   "execution_count": 35
  }
 ],
 "metadata": {
  "kernelspec": {
   "display_name": "Python 3",
   "language": "python",
   "name": "python3"
  },
  "language_info": {
   "codemirror_mode": {
    "name": "ipython",
    "version": 2
   },
   "file_extension": ".py",
   "mimetype": "text/x-python",
   "name": "python",
   "nbconvert_exporter": "python",
   "pygments_lexer": "ipython2",
   "version": "2.7.6"
  }
 },
 "nbformat": 4,
 "nbformat_minor": 5
}
